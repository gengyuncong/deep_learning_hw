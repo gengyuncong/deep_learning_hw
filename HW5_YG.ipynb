{
 "cells": [
  {
   "cell_type": "markdown",
   "metadata": {},
   "source": [
    "# CS547 Group 17\n",
    "Carlos Cuellar, Yuncong Geng, Kangcheng Lin, Peter Thompson\n",
    "## HW5"
   ]
  },
  {
   "cell_type": "code",
   "execution_count": 120,
   "metadata": {},
   "outputs": [],
   "source": [
    "import os\n",
    "import numpy as np\n",
    "import pandas as pd\n",
    "import matplotlib\n",
    "import matplotlib.pyplot as plt\n",
    "from sklearn.preprocessing import PolynomialFeatures\n",
    "from sklearn.linear_model import LinearRegression\n",
    "from sklearn.metrics import mean_squared_error\n",
    "from copy import deepcopy"
   ]
  },
  {
   "cell_type": "code",
   "execution_count": 121,
   "metadata": {},
   "outputs": [],
   "source": [
    "# Define some plotting styles that we will use.\n",
    "fontSize=15\n",
    "matplotlib.rcParams.update({\"axes.formatter.limits\": (-4,4),'font.family':'Avenir','font.size': fontSize, \"axes.titlesize\": fontSize, \"xtick.labelsize\": fontSize, \"ytick.labelsize\": fontSize,})\n",
    "plotStyles={\"markersize\":12,\"markeredgewidth\":2.0,\"linewidth\":2.0}\n",
    "stepStyles={\"markersize\":15,\"markeredgewidth\":3.0,\"linewidth\":4.0,\"where\":\"post\"}\n",
    "scatterStyles={\"linewidth\":1.0}"
   ]
  },
  {
   "cell_type": "markdown",
   "metadata": {},
   "source": [
    "## load data"
   ]
  },
  {
   "cell_type": "code",
   "execution_count": 122,
   "metadata": {},
   "outputs": [],
   "source": [
    "df=pd.read_csv('HW5_data.csv', sep=',',index_col=0, header='infer')\n",
    "df_xy = df[['X','Y']]\n",
    "df_z = df[['Z']]"
   ]
  },
  {
   "cell_type": "markdown",
   "metadata": {},
   "source": [
    "## split data"
   ]
  },
  {
   "cell_type": "code",
   "execution_count": 123,
   "metadata": {},
   "outputs": [],
   "source": [
    "'''\n",
    "def split_data(my_size): #random splitting\n",
    "    training_idx = np.random.choice(range(0,my_size), int(0.6*my_size), replace=False);\n",
    "    remaining_idx = np.setxor1d(range(0,my_size), training_idx);\n",
    "    validation_idx = np.random.choice(remaining_idx, int(0.2*my_size), replace=False);\n",
    "    testing_idx = np.setxor1d(remaining_idx, validation_idx);\n",
    "    return (training_idx, validation_idx, testing_idx)\n",
    "(training_idx, validation_idx, testing_idx) = split_data(len(df));\n",
    "'''\n",
    "\n",
    "my_size = len(df);\n",
    "training_idx = np.array(range(0,int(0.6*my_size)));\n",
    "validation_idx = np.array(range(int(0.6*my_size),int(0.8*my_size)));\n",
    "testing_idx = np.array(range(int(0.8*my_size),int(1*my_size)));"
   ]
  },
  {
   "cell_type": "markdown",
   "metadata": {},
   "source": [
    "## training and validation"
   ]
  },
  {
   "cell_type": "code",
   "execution_count": 131,
   "metadata": {},
   "outputs": [
    {
     "name": "stdout",
     "output_type": "stream",
     "text": [
      "D = 2 \ttraining MSE =  43430409.57778652 \tvalidation MSE =  36271714.89597634\n",
      "D = 3 \ttraining MSE =  2066632.835603818 \tvalidation MSE =  2180085.927675116\n",
      "D = 4 \ttraining MSE =  20544.828085888934 \tvalidation MSE =  21960.615275848562\n",
      "D = 5 \ttraining MSE =  0.008270412119058674 \tvalidation MSE =  0.010731902649748003\n",
      "D = 6 \ttraining MSE =  0.008132565722278669 \tvalidation MSE =  0.011034240519792507\n",
      "D = 7 \ttraining MSE =  0.00795559028260813 \tvalidation MSE =  0.011127754865817085\n",
      "best D =  5\n"
     ]
    }
   ],
   "source": [
    "MSE_best = 1e10\n",
    "D_best = 0;\n",
    "reg_best = LinearRegression();\n",
    "for D in [2, 3, 4, 5, 6, 7]:\n",
    "    poly = PolynomialFeatures(degree=D, include_bias=False); \n",
    "    \n",
    "    #training\n",
    "    XY = df_xy.iloc[training_idx,:];\n",
    "    Z = df_z.iloc[training_idx,:].to_numpy();\n",
    "    XY_poly = poly.fit_transform(XY);\n",
    "    reg = LinearRegression(fit_intercept = True).fit(XY_poly, Z)\n",
    "    z_pred = reg.predict(XY_poly);\n",
    "    MSE_training = mean_squared_error(Z, z_pred);\n",
    "    #validation\n",
    "    \n",
    "    XY_val = df_xy.iloc[validation_idx,:];\n",
    "    Z_val = df_z.iloc[validation_idx,:].to_numpy();\n",
    "    XY_poly_val = poly.fit_transform(XY_val);\n",
    "    z_val_pred = reg.predict(XY_poly_val);\n",
    "    MSE_val = mean_squared_error(Z_val, z_val_pred)\n",
    "    if (MSE_val < MSE_best):\n",
    "        MSE_best = MSE_val;\n",
    "        D_best = D;\n",
    "        reg_best = deepcopy(reg);\n",
    "    print('D =', D, '\\ttraining MSE = ', MSE_training,'\\tvalidation MSE = ', MSE_val);\n",
    "print('best D = ', D_best)"
   ]
  },
  {
   "cell_type": "markdown",
   "metadata": {},
   "source": [
    "## testing"
   ]
  },
  {
   "cell_type": "code",
   "execution_count": 125,
   "metadata": {},
   "outputs": [
    {
     "name": "stdout",
     "output_type": "stream",
     "text": [
      "testing MSE = 0.010544438312310387\n"
     ]
    }
   ],
   "source": [
    "#testing\n",
    "poly = PolynomialFeatures(degree=D_best,include_bias=False); \n",
    "XY_test = df_xy.iloc[testing_idx,:];\n",
    "Z_test = df_z.iloc[testing_idx,:].to_numpy();\n",
    "XY_poly_test = poly.fit_transform(XY_test);\n",
    "z_test_pred = reg_best.predict(XY_poly_test);\n",
    "MSE = mean_squared_error(Z_test, z_test_pred)\n",
    "print('testing MSE =', MSE)"
   ]
  },
  {
   "cell_type": "markdown",
   "metadata": {},
   "source": [
    "## coefficients for the best D"
   ]
  },
  {
   "cell_type": "code",
   "execution_count": 126,
   "metadata": {},
   "outputs": [
    {
     "name": "stdout",
     "output_type": "stream",
     "text": [
      "[[ 8.62706308e-01  9.25346591e-01  2.70539344e-01 -2.96455711e+00\n",
      "   2.01698867e-02 -1.67192295e-02  4.93639101e-01 -6.24851806e-03\n",
      "  -3.15132279e-03  3.01865573e-01  1.86021119e-04  9.04537822e-04\n",
      "   4.52142630e-04  2.70267580e-04 -7.87628076e-05  2.49538014e-05\n",
      "  -6.88331528e-05  8.92071001e-06 -2.92611205e-05  1.19999256e+00]]\n"
     ]
    }
   ],
   "source": [
    "print(reg_best.coef_)"
   ]
  },
  {
   "cell_type": "code",
   "execution_count": 127,
   "metadata": {},
   "outputs": [
    {
     "name": "stdout",
     "output_type": "stream",
     "text": [
      "[5.12425338]\n"
     ]
    }
   ],
   "source": [
    "print(reg_best.intercept_)"
   ]
  },
  {
   "cell_type": "code",
   "execution_count": null,
   "metadata": {},
   "outputs": [],
   "source": []
  }
 ],
 "metadata": {
  "kernelspec": {
   "display_name": "Python 3",
   "language": "python",
   "name": "python3"
  },
  "language_info": {
   "codemirror_mode": {
    "name": "ipython",
    "version": 3
   },
   "file_extension": ".py",
   "mimetype": "text/x-python",
   "name": "python",
   "nbconvert_exporter": "python",
   "pygments_lexer": "ipython3",
   "version": "3.8.5"
  }
 },
 "nbformat": 4,
 "nbformat_minor": 4
}

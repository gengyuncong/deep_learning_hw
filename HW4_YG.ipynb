{
 "cells": [
  {
   "cell_type": "markdown",
   "metadata": {},
   "source": [
    "# CS547 Group 17\n",
    "Carlos Cuellar, Yuncong Geng, Kangcheng Lin, Peter Thompson\n",
    "## HW4"
   ]
  },
  {
   "cell_type": "code",
   "execution_count": 199,
   "metadata": {},
   "outputs": [],
   "source": [
    "import os\n",
    "import numpy as np\n",
    "import pandas\n",
    "import time\n",
    "#import random\n",
    "import matplotlib\n",
    "import matplotlib.pyplot as plt\n",
    "#import scipy.stats\n",
    "#from sklearn.linear_model import LinearRegression"
   ]
  },
  {
   "cell_type": "code",
   "execution_count": 200,
   "metadata": {},
   "outputs": [],
   "source": [
    "import torch\n",
    "import torch.nn as nn\n",
    "from torch.autograd import Variable\n",
    "from torch.nn import functional as F"
   ]
  },
  {
   "cell_type": "code",
   "execution_count": 201,
   "metadata": {},
   "outputs": [],
   "source": [
    "# Define some plotting styles that we will use.\n",
    "fontSize=15\n",
    "matplotlib.rcParams.update({\"axes.formatter.limits\": (-4,4),'font.family':'Avenir','font.size': fontSize, \"axes.titlesize\": fontSize, \"xtick.labelsize\": fontSize, \"ytick.labelsize\": fontSize,})\n",
    "plotStyles={\"markersize\":12,\"markeredgewidth\":2.0,\"linewidth\":2.0}\n",
    "stepStyles={\"markersize\":15,\"markeredgewidth\":3.0,\"linewidth\":4.0,\"where\":\"post\"}\n",
    "scatterStyles={\"linewidth\":1.0}"
   ]
  },
  {
   "cell_type": "markdown",
   "metadata": {},
   "source": [
    "# Problem 2"
   ]
  },
  {
   "cell_type": "code",
   "execution_count": 202,
   "metadata": {},
   "outputs": [],
   "source": [
    "def func_phi(n,x):\n",
    "    return np.cos(2**n*x)\n",
    "\n",
    "def func_phi_deri(n,x):\n",
    "    return -2**n*np.sin(2**n*x)\n",
    "\n",
    "def func_L(x):\n",
    "    return np.exp(np.pi*x)\n",
    "\n",
    "def func_L_deri(x):\n",
    "    return np.pi*np.exp(np.pi*x)\n"
   ]
  },
  {
   "cell_type": "markdown",
   "metadata": {},
   "source": [
    "## 1) calculate function terms"
   ]
  },
  {
   "cell_type": "code",
   "execution_count": 203,
   "metadata": {},
   "outputs": [
    {
     "name": "stdout",
     "output_type": "stream",
     "text": [
      "phi1 \t 0.862318872287684\n",
      "phi2 \t 0.9314396336343251\n",
      "phi3 \t -0.9969498826095378\n",
      "f5 \t 0.04362999409438706\n"
     ]
    }
   ],
   "source": [
    "m1=10; m2=9; m3=8; x=5;\n",
    "m = [1,m1,m2,m3]\n",
    "\n",
    "phi = np.zeros(4);\n",
    "phi[0] = x;\n",
    "for i in range(1,4):\n",
    "    phi[i] = func_phi(i,m[i]*phi[i-1])\n",
    "    print('phi'+str(i),'\\t', phi[i])\n",
    "f5 = func_L(phi[-1])\n",
    "print('f5', '\\t', f5)"
   ]
  },
  {
   "cell_type": "markdown",
   "metadata": {},
   "source": [
    "## 2) calculate derivative terms"
   ]
  },
  {
   "cell_type": "code",
   "execution_count": 204,
   "metadata": {},
   "outputs": [
    {
     "name": "stdout",
     "output_type": "stream",
     "text": [
      "L' \t 0.13706766892309244\n",
      "phi3' \t -0.6243553636744417\n",
      "phi2' \t 1.455583505788131\n",
      "phi1' \t 1.0127312822195176\n"
     ]
    }
   ],
   "source": [
    "L_deri = func_L_deri(phi[3])\n",
    "print('L\\'','\\t', L_deri)\n",
    "\n",
    "phi_deri = np.zeros(4)\n",
    "for i in np.arange(3,0,-1):\n",
    "    phi_deri[i] = func_phi_deri(i,m[i]*phi[i-1]);\n",
    "    print('phi'+str(i)+'\\'','\\t',  phi_deri[i])"
   ]
  },
  {
   "cell_type": "markdown",
   "metadata": {},
   "source": [
    "## 3) final"
   ]
  },
  {
   "cell_type": "code",
   "execution_count": 205,
   "metadata": {},
   "outputs": [
    {
     "name": "stdout",
     "output_type": "stream",
     "text": [
      "df/ dm1 = -45.415147118982766\n",
      "df/ dm2 = -0.8593337670338087\n",
      "df/ dm3 = -0.07971161119116837\n"
     ]
    }
   ],
   "source": [
    "dfdm = np.zeros(4)\n",
    "dfdm[3] = L_deri*phi_deri[3]*phi[2];\n",
    "dfdm[2] = L_deri*phi_deri[3]*m[3]*phi_deri[2]*phi[1];\n",
    "dfdm[1] = L_deri*phi_deri[3]*m[3]*phi_deri[2]*m[2]*phi_deri[1]*x;\n",
    "for i in range(1,4):\n",
    "    print('df/ dm'+str(i),'=',dfdm[i])"
   ]
  },
  {
   "cell_type": "markdown",
   "metadata": {},
   "source": [
    "## 4) validation with pytorch"
   ]
  },
  {
   "cell_type": "code",
   "execution_count": 206,
   "metadata": {},
   "outputs": [
    {
     "name": "stdout",
     "output_type": "stream",
     "text": [
      "df/ dm1= -45.40815353393555\n",
      "df/ dm2= -0.8592014908790588\n",
      "df/ dm3= -0.07969946414232254\n"
     ]
    }
   ],
   "source": [
    "import torch\n",
    "from torch.autograd import Variable\n",
    "m1 = Variable(torch.tensor(10.0), requires_grad=True);\n",
    "m2 = Variable(torch.tensor(9.0), requires_grad=True);\n",
    "m3 = Variable(torch.tensor(8.0), requires_grad=True);\n",
    "\n",
    "f = torch.exp(np.pi*torch.cos(m3*2**3*torch.cos(m2*2**2*torch.cos(2**1*m1*5))))\n",
    "f.backward ( )\n",
    "print('df/ dm1=', m1.grad.item())\n",
    "print('df/ dm2=', m2.grad.item())\n",
    "print('df/ dm3=', m3.grad.item())"
   ]
  },
  {
   "cell_type": "markdown",
   "metadata": {},
   "source": [
    "# Problem 3"
   ]
  },
  {
   "cell_type": "markdown",
   "metadata": {},
   "source": [
    "## 1) calcualte function terms"
   ]
  },
  {
   "cell_type": "code",
   "execution_count": 214,
   "metadata": {},
   "outputs": [
    {
     "name": "stdout",
     "output_type": "stream",
     "text": [
      "phi1 \t -0.8667670910519801\n",
      "phi2 \t 0.6865321051692147\n",
      "phi3 \t 0.8485780548166594\n"
     ]
    }
   ],
   "source": [
    "m1=10; m2=9; m3=8; \n",
    "b1=11; b2=19; b3=18;\n",
    "x=5;\n",
    "m = [1,m1,m2,m3];\n",
    "b = [0,b1,b2,b3];\n",
    "phi = np.zeros(4); phi[0] = x;\n",
    "for i in range(1,4):\n",
    "    phi[i] = func_phi(i,m[i]*phi[i-1]+b[i])\n",
    "    print('phi'+str(i),'\\t', phi[i])\n",
    "#f5 = func_L(phi[-1])\n",
    "#print('f5', '\\t', f5)"
   ]
  },
  {
   "cell_type": "markdown",
   "metadata": {},
   "source": [
    "## 2) calcualte derivative terms"
   ]
  },
  {
   "cell_type": "code",
   "execution_count": 216,
   "metadata": {},
   "outputs": [
    {
     "name": "stdout",
     "output_type": "stream",
     "text": [
      "L' \t 45.1782812869579\n",
      "phi3' \t 4.232561663171462\n",
      "phi2' \t -2.908397960587722\n",
      "phi1' \t -0.9974263077927882\n"
     ]
    }
   ],
   "source": [
    "L_deri = func_L_deri(phi[3])\n",
    "print('L\\'','\\t', L_deri)\n",
    "\n",
    "phi_deri = np.zeros(4)\n",
    "for i in np.arange(3,0,-1):\n",
    "    phi_deri[i] = func_phi_deri(i,m[i]*phi[i-1]+b[i]);\n",
    "    print('phi'+str(i)+'\\'','\\t',  phi_deri[i])"
   ]
  },
  {
   "cell_type": "markdown",
   "metadata": {},
   "source": [
    "## 3) final"
   ]
  },
  {
   "cell_type": "code",
   "execution_count": 217,
   "metadata": {},
   "outputs": [
    {
     "name": "stdout",
     "output_type": "stream",
     "text": [
      "df/ dm1 = 199696.36060610693\n",
      "df/ dm2 = 3856.3747566865404\n",
      "df/ dm3 = 131.2785739855426\n"
     ]
    }
   ],
   "source": [
    "dfdm = np.zeros(4)\n",
    "dfdm[3] = L_deri*phi_deri[3]*phi[2];\n",
    "dfdm[2] = L_deri*phi_deri[3]*m[3]*phi_deri[2]*phi[1];\n",
    "dfdm[1] = L_deri*phi_deri[3]*m[3]*phi_deri[2]*m[2]*phi_deri[1]*x;\n",
    "for i in range(1,4):\n",
    "    print('df/ dm'+str(i),'=',dfdm[i])"
   ]
  },
  {
   "cell_type": "markdown",
   "metadata": {},
   "source": [
    "## 4) validation with pytorch"
   ]
  },
  {
   "cell_type": "code",
   "execution_count": 210,
   "metadata": {},
   "outputs": [
    {
     "name": "stdout",
     "output_type": "stream",
     "text": [
      "df/ dm1= 199695.640625\n",
      "df/ dm2= 3856.360595703125\n",
      "df/ dm3= 131.27757263183594\n"
     ]
    }
   ],
   "source": [
    "import torch\n",
    "from torch.autograd import Variable\n",
    "m1 = Variable(torch.tensor(10.0), requires_grad=True);\n",
    "b1 = Variable(torch.tensor(11.0), requires_grad=True);\n",
    "m2 = Variable(torch.tensor(9.0), requires_grad=True);\n",
    "b2 = Variable(torch.tensor(19.0), requires_grad=True);\n",
    "m3 = Variable(torch.tensor(8.0), requires_grad=True);\n",
    "b3 = Variable(torch.tensor(18.0), requires_grad=True);\n",
    "\n",
    "f = torch.exp(np.pi*torch.cos(2**3*(m3*torch.cos(2**2*(m2*torch.cos(2**1*(m1*5+b1))+b2))+b3)));\n",
    "f.backward ( )\n",
    "print('df/ dm1=', m1.grad.item())\n",
    "print('df/ dm2=', m2.grad.item())\n",
    "print('df/ dm3=', m3.grad.item())"
   ]
  },
  {
   "cell_type": "markdown",
   "metadata": {},
   "source": [
    "# Problem 4"
   ]
  },
  {
   "cell_type": "code",
   "execution_count": 137,
   "metadata": {},
   "outputs": [
    {
     "name": "stdout",
     "output_type": "stream",
     "text": [
      "df5/ dm1\t-45.28855509500218\n",
      "df5/ dm2\t-0.8592884434555081\n",
      "df5/ dm3\t-0.07971122387151475\n"
     ]
    },
    {
     "data": {
      "image/png": "[encoded data removed]",
      "text/plain": [
       "<Figure size 1080x288 with 3 Axes>"
      ]
     },
     "metadata": {
      "needs_background": "light"
     },
     "output_type": "display_data"
    }
   ],
   "source": [
    "def f5(m1,m2,m3):\n",
    "    return np.exp(np.pi*func_phi(3,m3*func_phi(2,m2*func_phi(1,m1*x))))\n",
    "\n",
    "m1=10; m2=9; m3=8; x=5;\n",
    "N_epsilon = 10000;\n",
    "\n",
    "deriv = np.zeros((3,N_epsilon));\n",
    "i = 0;\n",
    "\n",
    "for epsilon in np.logspace(-4, -7, num=N_epsilon):\n",
    "    deriv[0,i] = (f5(m1,m2,m3+epsilon)-f5(m1,m2,m3))/epsilon; \n",
    "    deriv[1,i] = (f5(m1,m2+epsilon,m3)-f5(m1,m2,m3))/epsilon; \n",
    "    deriv[2,i] = (f5(m1+epsilon,m2,m3)-f5(m1,m2,m3))/epsilon;\n",
    "    i = i+1;\n",
    "    \n",
    "plt.rcParams[\"figure.figsize\"] = (15,4)\n",
    "plt.rcParams.update({'font.size': 15})\n",
    "for j in range(0,3):\n",
    "    plt.subplot(1,3,j+1)\n",
    "    plt.plot(np.logspace(-2, -10, num=N_epsilon), deriv[j,:])\n",
    "    plt.xscale('log')\n",
    "    plt.xlabel(r'$\\epsilon$')\n",
    "    plt.ylabel('perturbing m'+str(3-j))\n",
    "plt.tight_layout()\n",
    "\n",
    "for j in np.arange(2,-1,-1):\n",
    "    print('df5/ dm'+str(3-j)+'\\t'+str(deriv[j,-1]))"
   ]
  },
  {
   "cell_type": "code",
   "execution_count": null,
   "metadata": {},
   "outputs": [],
   "source": []
  }
 ],
 "metadata": {
  "kernelspec": {
   "display_name": "Python 3",
   "language": "python",
   "name": "python3"
  },
  "language_info": {
   "codemirror_mode": {
    "name": "ipython",
    "version": 3
   },
   "file_extension": ".py",
   "mimetype": "text/x-python",
   "name": "python",
   "nbconvert_exporter": "python",
   "pygments_lexer": "ipython3",
   "version": "3.8.5"
  }
 },
 "nbformat": 4,
 "nbformat_minor": 4
}
